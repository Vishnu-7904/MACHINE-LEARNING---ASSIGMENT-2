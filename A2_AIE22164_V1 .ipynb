{
  "nbformat": 4,
  "nbformat_minor": 0,
  "metadata": {
    "colab": {
      "provenance": []
    },
    "kernelspec": {
      "name": "python3",
      "display_name": "Python 3"
    },
    "language_info": {
      "name": "python"
    }
  },
  "cells": [
    {
      "cell_type": "code",
      "execution_count": 3,
      "metadata": {
        "colab": {
          "base_uri": "https://localhost:8080/"
        },
        "id": "vNoozbidhfqD",
        "outputId": "46056278-bf6e-4f1f-8f45-4391baee9797"
      },
      "outputs": [
        {
          "output_type": "stream",
          "name": "stdout",
          "text": [
            "Enter the dimension of X vector: 3\n",
            "Enter the 0th element of the vector: 3\n",
            "Enter the 1th element of the vector: 1\n",
            "Enter the 2th element of the vector: 2\n",
            "Enter the dimension of Y vector: 3\n",
            "Enter the 0th element of the vector: 3\n",
            "Enter the 1th element of the vector: 2\n",
            "Enter the 2th element of the vector: 1\n",
            "Manhattan Distance is: 2.0\n",
            "Euclidean Distance is: 1.4142135623730951\n"
          ]
        }
      ],
      "source": [
        "#QUESTION 1\n",
        "\n",
        "from math import sqrt\n",
        "\n",
        "def Create_Vector(Dimension_of_Vector): #Function to create a vector with specified dimensions\n",
        "    vector = []\n",
        "    for i in range(Dimension_of_Vector):  # Iterate through each dimension to collect vector elements\n",
        "        vector.append(float(input(f\"Enter the {i}th element of the vector: \")))\n",
        "    return vector\n",
        "\n",
        "def Manhattan(Vector_X, Vector_Y): # Function to calculate the Manhattan distance between two vectors\n",
        "    distance = 0\n",
        "    for i in range(len(Vector_X)): #Iterate through each dimension and sum the absolute differences\n",
        "        distance += abs(Vector_Y[i] - Vector_X[i])  #Equation to finnd the Manhattan distance\n",
        "    return distance\n",
        "\n",
        "def Euclidean_Distance(Vector_X, Vector_Y): # Function to calculate the Euclidean distance between two vectors\n",
        "    squared_diff = [(Vector_Y[i] - Vector_X[i]) ** 2 for i in range(len(Vector_X))] #Equation to find the Euclidean distance\n",
        "    distance = sqrt(sum(squared_diff))\n",
        "    return distance\n",
        "\n",
        "X_vector = Create_Vector(int(input(\"Enter the dimension of X vector: \"))) # Asking the user to enter the dimension of the vector\n",
        "Y_vector = Create_Vector(int(input(\"Enter the dimension of Y vector: \")))\n",
        "\n",
        "print(\"Manhattan Distance is:\", Manhattan(X_vector, Y_vector)) # Printing the result\n",
        "print(\"Euclidean Distance is:\", Euclidean_Distance(X_vector, Y_vector))\n"
      ]
    },
    {
      "cell_type": "markdown",
      "source": [],
      "metadata": {
        "id": "ykcwRvMb8EgQ"
      }
    },
    {
      "cell_type": "code",
      "source": [
        "#QUESTION 2\n",
        "\n",
        "def calculate_Manhattan_distance(vector1, vector2): #Funtion to find the Manhattan distance\n",
        "    distance = 0\n",
        "    for i in range(len(vector2)):  # Iterate through 0 and length of vector Y\n",
        "        distance += abs(vector2[i] - vector1[i])  # Equation to find the Manhattan distance\n",
        "    return distance\n",
        "\n",
        "def find_nearest_neighbors(X, Y, Target, K): #Function to find K nearest neighbors\n",
        "    distances = {i: calculate_Manhattan_distance(X[i], Y[i]) for i in range(len(X))} #Calculate the Manhattan distance\n",
        "    nearest_indices = sorted(distances, key=distances.get)[:K] #Sorting the Distance\n",
        "    nearest_labels = [Target[i] for i in nearest_indices] #Get corresponding target labels of K nearest neighbors\n",
        "    return nearest_labels\n",
        "\n",
        "X = [[2], [6], [3], [5], [9]]\n",
        "Y = [[7], [3], [8], [1], [4]]\n",
        "Target = ['bad', 'good', 'good', 'bad', 'bad']\n",
        "\n",
        "K = int(input(\"Enter the value of K: \")) #Entering the K value\n",
        "nearest_neighbors = find_nearest_neighbors(X, Y, Target, K) #Using the funtion to find the K nearest neighbour\n",
        "print(f\"Nearest neighbors for K = {K}: {nearest_neighbors}\")\n"
      ],
      "metadata": {
        "colab": {
          "base_uri": "https://localhost:8080/"
        },
        "id": "G7F1kKIoyOYw",
        "outputId": "c23d47ab-c3bf-4bd3-8c49-2aaca0279894"
      },
      "execution_count": null,
      "outputs": [
        {
          "output_type": "stream",
          "name": "stdout",
          "text": [
            "Enter the value of K: 2\n",
            "Nearest neighbors for K = 2: ['good', 'bad']\n"
          ]
        }
      ]
    },
    {
      "cell_type": "code",
      "source": [
        "#QUESTION 3\n",
        "\n",
        "def label_encoding(data): #Funtion to get the categorical data into label_encoding data\n",
        "\n",
        "    unique_categories = set(data) #Finding the unique categories\n",
        "    encoding_dict = {} #Dictionary to map categories to numeric labels\n",
        "    for i, category in enumerate(unique_categories):\n",
        "        encoding_dict[category] = i\n",
        "\n",
        "    numerical_data = [] #Convert categorical data to numeric using\n",
        "    for category in data:\n",
        "        numerical_data.append(encoding_dict[category])\n",
        "\n",
        "    return numerical_data\n",
        "\n",
        "categorical_data = [\"dog\", \"cat\", \"dog\", \"bird\", \"cat\", \"bird\", \"dog\"] #Input\n",
        "numerical_data = label_encoding(categorical_data) #Using the funtion to convert the data\n",
        "print(\"The variables to be converted \",categorical_data)\n",
        "print(\"After converting the variables to label encoding data: \") #Result\n",
        "print(numerical_data)\n"
      ],
      "metadata": {
        "colab": {
          "base_uri": "https://localhost:8080/"
        },
        "id": "Dt83cz6xva6s",
        "outputId": "be075cd7-ecec-4506-8aab-66144b9fae16"
      },
      "execution_count": null,
      "outputs": [
        {
          "output_type": "stream",
          "name": "stdout",
          "text": [
            "The variables to be converted ['dog', 'cat', 'dog', 'bird', 'cat', 'bird', 'dog']\n",
            "After converting the variables to label encoding data: \n",
            "[1, 0, 1, 2, 0, 2, 1]\n"
          ]
        }
      ]
    },
    {
      "cell_type": "code",
      "source": [
        "#QUESTION 4\n",
        "\n",
        "def one_hot_encoding(data): #Function find one hot encoding of set of data\n",
        "\n",
        "    unique_categories = set(data) #Getting the unique categories for set of data\n",
        "    encoding_dict = {}\n",
        "    for category in unique_categories: #Condition to iterate through categories\n",
        "\n",
        "        one_hot_encoding = []\n",
        "        for unique_category in unique_categories: #Iterating to find the unique character\n",
        "\n",
        "            if category == unique_category: #Condition to make sure category is equal to unique category\n",
        "                one_hot_encoding.append(1)\n",
        "            else:\n",
        "                one_hot_encoding.append(0)\n",
        "\n",
        "        encoding_dict[category] = one_hot_encoding #Storing the one hot encoding for the category in the dictionary\n",
        "\n",
        "\n",
        "    one_hot_encoded_data = [] #Convert categorical data to one hot encoded numeric data using the encoding dictionary\n",
        "\n",
        "    for category in data:\n",
        "        one_hot_encoded_data.append(encoding_dict[category])\n",
        "\n",
        "    return one_hot_encoded_data\n",
        "\n",
        "categorical_data = [\"dog\", \"cat\", \"dog\", \"bird\", \"cat\", \"bird\", \"dog\"] #Input\n",
        "numerical_data = one_hot_encoding(categorical_data) #Using the funtion to convert the data\n",
        "print(\"Tha variable to be coverted \",categorical_data)\n",
        "print(\"After converting the variables to one hot encoding data: \") #Result\n",
        "for item in numerical_data:\n",
        "    print(item)\n"
      ],
      "metadata": {
        "colab": {
          "base_uri": "https://localhost:8080/"
        },
        "id": "X_IBa9BHSgrr",
        "outputId": "ee6d98d7-2206-4929-fc7a-d8edddca7c69"
      },
      "execution_count": null,
      "outputs": [
        {
          "output_type": "stream",
          "name": "stdout",
          "text": [
            "Tha variable to be coverted  ['dog', 'cat', 'dog', 'bird', 'cat', 'bird', 'dog']\n",
            "The result after converting categorical variables to one-hot encoded numeric data:\n",
            "[0, 1, 0]\n",
            "[1, 0, 0]\n",
            "[0, 1, 0]\n",
            "[0, 0, 1]\n",
            "[1, 0, 0]\n",
            "[0, 0, 1]\n",
            "[0, 1, 0]\n"
          ]
        }
      ]
    }
  ]
}